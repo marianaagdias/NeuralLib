{
 "cells": [
  {
   "cell_type": "markdown",
   "id": "db9a4cfe-56b9-41c2-a0ee-d74d2d20f66f",
   "metadata": {},
   "source": [
    "# Tutorial #5"
   ]
  },
  {
   "cell_type": "markdown",
   "id": "74fe1209-dad9-4327-88f8-c77d60426c7c",
   "metadata": {},
   "source": [
    "In this tutorial, we are importing a production model from the collection to apply Transfer Learning on a different task."
   ]
  },
  {
   "cell_type": "markdown",
   "id": "1f6e25b2-16f0-40b9-bacc-cf2fc3617abb",
   "metadata": {
    "jp-MarkdownHeadingCollapsed": true
   },
   "source": [
    "### Pre-tutorial"
   ]
  },
  {
   "cell_type": "code",
   "execution_count": 2,
   "id": "5b5c39c5-4d9f-4fd5-af41-bd0c8699e039",
   "metadata": {},
   "outputs": [],
   "source": [
    "# Cell to be removed once the package is stable\n",
    "import sys\n",
    "import os\n",
    "\n",
    "# Get the absolute path of your project directory\n",
    "project_path = os.path.abspath(\"..\")\n",
    "\n",
    "# Add the project directory to sys.path\n",
    "if project_path not in sys.path:\n",
    "    sys.path.append(project_path)"
   ]
  },
  {
   "cell_type": "markdown",
   "id": "5f8bdd08-4a7c-4c72-aeb2-d86c50c7db2c",
   "metadata": {},
   "source": [
    "### Imports"
   ]
  },
  {
   "cell_type": "code",
   "execution_count": 3,
   "id": "9f169cdc-2a75-46b4-b66e-4eb9254a2d3b",
   "metadata": {},
   "outputs": [],
   "source": [
    "from NeuralLib.model_hub import TLModel, TLFactory, list_production_models\n",
    "from NeuralLib.architectures import GRUseq2seq\n",
    "from NeuralLib.config import DATASETS_ECG_G\n",
    "import os"
   ]
  },
  {
   "cell_type": "markdown",
   "id": "4cc5e5aa-5beb-46b4-b495-1d21b0fb7573",
   "metadata": {},
   "source": [
    "### Data paths"
   ]
  },
  {
   "cell_type": "code",
   "execution_count": 4,
   "id": "54f52b64-34da-4269-9b78-3430ffc621f0",
   "metadata": {},
   "outputs": [],
   "source": [
    "X = os.path.join(DATASETS_ECG_G, 'x')\n",
    "Y_BIN = os.path.join(DATASETS_ECG_G, 'y_bin')"
   ]
  },
  {
   "cell_type": "markdown",
   "id": "8689ea2f-e84f-43e2-8411-895a38d806ff",
   "metadata": {},
   "source": [
    "### Initialize Factory"
   ]
  },
  {
   "cell_type": "code",
   "execution_count": 5,
   "id": "cc52edaa-5e79-494c-8d77-248811229333",
   "metadata": {},
   "outputs": [],
   "source": [
    "factory = TLFactory()"
   ]
  },
  {
   "cell_type": "markdown",
   "id": "8a27665d-1f92-492b-89b9-c6fe546c3acb",
   "metadata": {},
   "source": [
    "### Check the list of Production Models in the NeuralLib collection"
   ]
  },
  {
   "cell_type": "code",
   "execution_count": 6,
   "id": "cd7381c7-9d1f-4a32-856c-e5e9bda9f275",
   "metadata": {},
   "outputs": [
    {
     "name": "stdout",
     "output_type": "stream",
     "text": [
      "ECGPeakDetector\n",
      "ECGDenoiser\n"
     ]
    }
   ],
   "source": [
    "list_production_models()"
   ]
  },
  {
   "cell_type": "markdown",
   "id": "cab8c62a-5873-4ec4-b0e9-52787996c28f",
   "metadata": {},
   "source": [
    "### Load a Production Model from the collection"
   ]
  },
  {
   "cell_type": "code",
   "execution_count": 8,
   "id": "9fe0ad0b-b3e1-4462-bb82-16219dd9f5dd",
   "metadata": {},
   "outputs": [
    {
     "name": "stdout",
     "output_type": "stream",
     "text": [
      "Using cached model files at: C:\\Users\\Catia Bastos\\dev\\hugging_prodmodels\\ECGPeakDetector\n",
      "✅ ECGPeakDetector successfully initialized.\n",
      "✅ Loaded ProductionModel: ECGPeakDetector\n"
     ]
    }
   ],
   "source": [
    "factory.load_production_model(model_name=\"ECGDenoiser\")\n",
    "\n",
    "prod_model = factory.models['ECGDenoiser']"
   ]
  },
  {
   "cell_type": "code",
   "execution_count": 10,
   "id": "ebb2758b-57c3-4e81-83a1-a3c3e825df91",
   "metadata": {},
   "outputs": [
    {
     "name": "stdout",
     "output_type": "stream",
     "text": [
      "GRUseq2seq(\n",
      "  (gru_layers): ModuleList(\n",
      "    (0): GRU(1, 32, batch_first=True, bidirectional=True)\n",
      "    (1): GRU(64, 64, batch_first=True, bidirectional=True)\n",
      "    (2): GRU(128, 64, batch_first=True, bidirectional=True)\n",
      "  )\n",
      "  (dropout_layers): ModuleList(\n",
      "    (0-2): 3 x Dropout(p=0, inplace=False)\n",
      "  )\n",
      "  (fc_out): Linear(in_features=128, out_features=1, bias=True)\n",
      "  (criterion): BCEWithLogitsLoss()\n",
      ")\n"
     ]
    }
   ],
   "source": [
    "# Inspect model structure\n",
    "print(prod_model.model)"
   ]
  },
  {
   "cell_type": "markdown",
   "id": "29949aca-f5a5-4d49-977e-d2d96fe0f74d",
   "metadata": {},
   "source": [
    "### Define hyperparameters of TLModel"
   ]
  },
  {
   "cell_type": "code",
   "execution_count": 11,
   "id": "6efa4a5d-5149-40bf-af66-59145551de48",
   "metadata": {},
   "outputs": [],
   "source": [
    "arch_params = {\n",
    "    'model_name': 'ECGPeakDetectorTLDenoiser',\n",
    "    'n_features': 1,\n",
    "    'hid_dim': [64, 64, 32],  # Hidden dimensions per layer\n",
    "    'n_layers': 3,            # Total layers\n",
    "    'dropout': 0,             # Dropout rate\n",
    "    'learning_rate': 0.001,\n",
    "    'bidirectional': True,\n",
    "    'task': 'classification',\n",
    "    'num_classes': 1\n",
    "}"
   ]
  },
  {
   "cell_type": "markdown",
   "id": "9ebcba7c-bd5f-4263-9c08-440588f31f57",
   "metadata": {},
   "source": [
    "### Initialize TLModel"
   ]
  },
  {
   "cell_type": "code",
   "execution_count": 13,
   "id": "aa713e8b-7beb-4257-a039-69d42bdfc007",
   "metadata": {},
   "outputs": [
    {
     "name": "stdout",
     "output_type": "stream",
     "text": [
      "✅ TransferLearningModel initialized with architecture: GRUseq2seq\n"
     ]
    }
   ],
   "source": [
    "tl_model = TLModel('GRUseq2seq', **arch_params)"
   ]
  },
  {
   "cell_type": "markdown",
   "id": "75d4d915-69d2-4231-bc91-c2175f4fe221",
   "metadata": {
    "jp-MarkdownHeadingCollapsed": true
   },
   "source": [
    "### (optional) inspect layer names and keys in state_dict"
   ]
  },
  {
   "cell_type": "code",
   "execution_count": 16,
   "id": "8a30749f-8baf-41a0-9a35-92e82732be9e",
   "metadata": {
    "collapsed": true,
    "jupyter": {
     "outputs_hidden": true
    },
    "scrolled": true
   },
   "outputs": [
    {
     "name": "stdout",
     "output_type": "stream",
     "text": [
      "Name:   -> Module:  TLModel(\n",
      "  (model): GRUseq2seq(\n",
      "    (gru_layers): ModuleList(\n",
      "      (0): GRU(1, 64, batch_first=True, bidirectional=True)\n",
      "      (1): GRU(128, 64, batch_first=True, bidirectional=True)\n",
      "      (2): GRU(128, 32, batch_first=True, bidirectional=True)\n",
      "    )\n",
      "    (dropout_layers): ModuleList(\n",
      "      (0-2): 3 x Dropout(p=0, inplace=False)\n",
      "    )\n",
      "    (fc_out): Linear(in_features=64, out_features=1, bias=True)\n",
      "    (criterion): BCEWithLogitsLoss()\n",
      "  )\n",
      ")\n",
      "Name:  model -> Module:  GRUseq2seq(\n",
      "  (gru_layers): ModuleList(\n",
      "    (0): GRU(1, 64, batch_first=True, bidirectional=True)\n",
      "    (1): GRU(128, 64, batch_first=True, bidirectional=True)\n",
      "    (2): GRU(128, 32, batch_first=True, bidirectional=True)\n",
      "  )\n",
      "  (dropout_layers): ModuleList(\n",
      "    (0-2): 3 x Dropout(p=0, inplace=False)\n",
      "  )\n",
      "  (fc_out): Linear(in_features=64, out_features=1, bias=True)\n",
      "  (criterion): BCEWithLogitsLoss()\n",
      ")\n",
      "Name:  model.gru_layers -> Module:  ModuleList(\n",
      "  (0): GRU(1, 64, batch_first=True, bidirectional=True)\n",
      "  (1): GRU(128, 64, batch_first=True, bidirectional=True)\n",
      "  (2): GRU(128, 32, batch_first=True, bidirectional=True)\n",
      ")\n",
      "Name:  model.gru_layers.0 -> Module:  GRU(1, 64, batch_first=True, bidirectional=True)\n",
      "Name:  model.gru_layers.1 -> Module:  GRU(128, 64, batch_first=True, bidirectional=True)\n",
      "Name:  model.gru_layers.2 -> Module:  GRU(128, 32, batch_first=True, bidirectional=True)\n",
      "Name:  model.dropout_layers -> Module:  ModuleList(\n",
      "  (0-2): 3 x Dropout(p=0, inplace=False)\n",
      ")\n",
      "Name:  model.dropout_layers.0 -> Module:  Dropout(p=0, inplace=False)\n",
      "Name:  model.dropout_layers.1 -> Module:  Dropout(p=0, inplace=False)\n",
      "Name:  model.dropout_layers.2 -> Module:  Dropout(p=0, inplace=False)\n",
      "Name:  model.fc_out -> Module:  Linear(in_features=64, out_features=1, bias=True)\n",
      "Name:  model.criterion -> Module:  BCEWithLogitsLoss()\n"
     ]
    }
   ],
   "source": [
    "# Print all layer names and their types\n",
    "for name, module in tl_model.named_modules():\n",
    "    print(\"Name: \", name, \"->\", \"Module: \", module)"
   ]
  },
  {
   "cell_type": "code",
   "execution_count": 17,
   "id": "9ca78377-1498-4c57-9aac-9b4f94f32398",
   "metadata": {
    "scrolled": true
   },
   "outputs": [
    {
     "name": "stdout",
     "output_type": "stream",
     "text": [
      "model.gru_layers.0.weight_ih_l0\n",
      "model.gru_layers.0.weight_hh_l0\n",
      "model.gru_layers.0.bias_ih_l0\n",
      "model.gru_layers.0.bias_hh_l0\n",
      "model.gru_layers.0.weight_ih_l0_reverse\n",
      "model.gru_layers.0.weight_hh_l0_reverse\n",
      "model.gru_layers.0.bias_ih_l0_reverse\n",
      "model.gru_layers.0.bias_hh_l0_reverse\n",
      "model.gru_layers.1.weight_ih_l0\n",
      "model.gru_layers.1.weight_hh_l0\n",
      "model.gru_layers.1.bias_ih_l0\n",
      "model.gru_layers.1.bias_hh_l0\n",
      "model.gru_layers.1.weight_ih_l0_reverse\n",
      "model.gru_layers.1.weight_hh_l0_reverse\n",
      "model.gru_layers.1.bias_ih_l0_reverse\n",
      "model.gru_layers.1.bias_hh_l0_reverse\n",
      "model.gru_layers.2.weight_ih_l0\n",
      "model.gru_layers.2.weight_hh_l0\n",
      "model.gru_layers.2.bias_ih_l0\n",
      "model.gru_layers.2.bias_hh_l0\n",
      "model.gru_layers.2.weight_ih_l0_reverse\n",
      "model.gru_layers.2.weight_hh_l0_reverse\n",
      "model.gru_layers.2.bias_ih_l0_reverse\n",
      "model.gru_layers.2.bias_hh_l0_reverse\n",
      "model.fc_out.weight\n",
      "model.fc_out.bias\n"
     ]
    }
   ],
   "source": [
    "# Print all keys (TLModel) in the state_dict\n",
    "for key in tl_model.state_dict().keys():\n",
    "    print(key)"
   ]
  },
  {
   "cell_type": "code",
   "execution_count": 18,
   "id": "a51fc159-1421-47e7-8804-ce9a36af92cd",
   "metadata": {
    "scrolled": true
   },
   "outputs": [
    {
     "name": "stdout",
     "output_type": "stream",
     "text": [
      "model.gru_layers.0.weight_ih_l0\n",
      "model.gru_layers.0.weight_hh_l0\n",
      "model.gru_layers.0.bias_ih_l0\n",
      "model.gru_layers.0.bias_hh_l0\n",
      "model.gru_layers.0.weight_ih_l0_reverse\n",
      "model.gru_layers.0.weight_hh_l0_reverse\n",
      "model.gru_layers.0.bias_ih_l0_reverse\n",
      "model.gru_layers.0.bias_hh_l0_reverse\n",
      "model.gru_layers.1.weight_ih_l0\n",
      "model.gru_layers.1.weight_hh_l0\n",
      "model.gru_layers.1.bias_ih_l0\n",
      "model.gru_layers.1.bias_hh_l0\n",
      "model.gru_layers.1.weight_ih_l0_reverse\n",
      "model.gru_layers.1.weight_hh_l0_reverse\n",
      "model.gru_layers.1.bias_ih_l0_reverse\n",
      "model.gru_layers.1.bias_hh_l0_reverse\n",
      "model.gru_layers.2.weight_ih_l0\n",
      "model.gru_layers.2.weight_hh_l0\n",
      "model.gru_layers.2.bias_ih_l0\n",
      "model.gru_layers.2.bias_hh_l0\n",
      "model.gru_layers.2.weight_ih_l0_reverse\n",
      "model.gru_layers.2.weight_hh_l0_reverse\n",
      "model.gru_layers.2.bias_ih_l0_reverse\n",
      "model.gru_layers.2.bias_hh_l0_reverse\n",
      "model.fc_out.weight\n",
      "model.fc_out.bias\n"
     ]
    }
   ],
   "source": [
    "# Print all keys (ProdModel) in the state_dict\n",
    "for key in prod_model.state_dict().keys():\n",
    "    print(key)"
   ]
  },
  {
   "cell_type": "markdown",
   "id": "bad00db7-cb81-4915-a61a-7f4a1d4ae099",
   "metadata": {},
   "source": [
    "### Extract desired weights from the Production Model"
   ]
  },
  {
   "cell_type": "code",
   "execution_count": 19,
   "id": "5842e1a1-33d2-460a-b8c3-fbff40ee3459",
   "metadata": {},
   "outputs": [],
   "source": [
    "layer_mapping = {\n",
    "    'gru_layers.0': prod_model.model.gru_layers[0].state_dict(),  # First GRU layer weights\n",
    "    'gru_layers.1': prod_model.model.gru_layers[1].state_dict()   # Second GRU layer weights\n",
    "}"
   ]
  },
  {
   "cell_type": "markdown",
   "id": "96dd8fb2-17e9-4ebb-8219-5e940c627bef",
   "metadata": {},
   "source": [
    "### Define freezing and unfreezing strategies"
   ]
  },
  {
   "cell_type": "code",
   "execution_count": 20,
   "id": "84c698be-3147-4026-85d6-181e7de2a879",
   "metadata": {},
   "outputs": [],
   "source": [
    "freeze_layers = ['gru_layers.0']\n",
    "unfreeze_layers = ['gru_layers.1']"
   ]
  },
  {
   "cell_type": "markdown",
   "id": "a88b9948-ec4d-44da-8476-dd259cbe7d25",
   "metadata": {},
   "source": [
    "### Configure the TLModel"
   ]
  },
  {
   "cell_type": "code",
   "execution_count": 21,
   "id": "cfd14a51-8824-4c11-9a21-b91d5ffd5998",
   "metadata": {
    "collapsed": true,
    "jupyter": {
     "outputs_hidden": true
    }
   },
   "outputs": [
    {
     "name": "stdout",
     "output_type": "stream",
     "text": [
      "🔄 Injecting weights into TLModel layers...\n",
      "layer mapping items: dict_items([('gru_layers.0', OrderedDict([('weight_ih_l0', tensor([[ 0.0563],\n",
      "        [ 0.0229],\n",
      "        [ 0.0062],\n",
      "        [-0.0140],\n",
      "        [ 0.0470],\n",
      "        [ 0.1731],\n",
      "        [-0.0208],\n",
      "        [-0.0011],\n",
      "        [-0.0592],\n",
      "        [ 0.0285],\n",
      "        [ 0.1479],\n",
      "        [ 0.0681],\n",
      "        [ 0.1086],\n",
      "        [ 0.1445],\n",
      "        [ 0.2109],\n",
      "        [ 0.0465],\n",
      "        [ 0.2136],\n",
      "        [ 0.1798],\n",
      "        [ 0.0240],\n",
      "        [ 0.0943],\n",
      "        [ 0.0089],\n",
      "        [ 0.1835],\n",
      "        [ 0.0398],\n",
      "        [ 0.1905],\n",
      "        [-0.1278],\n",
      "        [ 0.1058],\n",
      "        [-0.0287],\n",
      "        [-0.1388],\n",
      "        [ 0.0355],\n",
      "        [ 0.0268],\n",
      "        [ 0.1111],\n",
      "        [ 0.2347],\n",
      "        [-0.2872],\n",
      "        [ 0.0392],\n",
      "        [-0.0167],\n",
      "        [-0.0975],\n",
      "        [-0.1583],\n",
      "        [-0.1761],\n",
      "        [-0.1317],\n",
      "        [-0.1989],\n",
      "        [ 0.0267],\n",
      "        [-0.1534],\n",
      "        [-0.3157],\n",
      "        [-0.1730],\n",
      "        [-0.3113],\n",
      "        [-0.3008],\n",
      "        [-0.3562],\n",
      "        [-0.0621],\n",
      "        [-0.4616],\n",
      "        [-0.1306],\n",
      "        [-0.0987],\n",
      "        [-0.2208],\n",
      "        [-0.0972],\n",
      "        [-0.3811],\n",
      "        [-0.0441],\n",
      "        [-0.0461],\n",
      "        [-0.1026],\n",
      "        [ 0.0107],\n",
      "        [-0.0696],\n",
      "        [-0.0829],\n",
      "        [-0.0782],\n",
      "        [-0.0449],\n",
      "        [-0.0541],\n",
      "        [-0.3905],\n",
      "        [ 0.1537],\n",
      "        [ 0.0581],\n",
      "        [ 0.0506],\n",
      "        [-0.1885],\n",
      "        [-0.1733],\n",
      "        [ 0.0392],\n",
      "        [ 0.1776],\n",
      "        [ 0.1289],\n",
      "        [-0.0947],\n",
      "        [-0.0560],\n",
      "        [-0.2030],\n",
      "        [-0.0948],\n",
      "        [ 0.1226],\n",
      "        [ 0.1491],\n",
      "        [ 0.2691],\n",
      "        [-0.1695],\n",
      "        [ 0.3951],\n",
      "        [-0.1653],\n",
      "        [ 0.0660],\n",
      "        [ 0.1865],\n",
      "        [ 0.0397],\n",
      "        [ 0.2960],\n",
      "        [-0.1563],\n",
      "        [-0.0672],\n",
      "        [ 0.1167],\n",
      "        [-0.0123],\n",
      "        [-0.0592],\n",
      "        [-0.0866],\n",
      "        [ 0.1131],\n",
      "        [ 0.0927],\n",
      "        [ 0.0660],\n",
      "        [-0.2493]])), ('weight_hh_l0', tensor([[ 0.0196,  0.0405,  0.0363,  ..., -0.0209, -0.0220, -0.1487],\n",
      "        [ 0.0403,  0.0423,  0.0202,  ..., -0.0301,  0.0285, -0.0545],\n",
      "        [ 0.0287,  0.0428,  0.0370,  ..., -0.0054,  0.0432, -0.0118],\n",
      "        ...,\n",
      "        [-0.1589, -0.0928,  0.0858,  ..., -0.0266,  0.0879, -0.0202],\n",
      "        [ 0.0748,  0.0971,  0.0476,  ...,  0.0528,  0.1679, -0.0782],\n",
      "        [-0.0622, -0.0982, -0.1049,  ..., -0.2495, -0.1620,  0.0334]])), ('bias_ih_l0', tensor([-0.0096,  0.0914,  0.1672,  0.0507,  0.0023,  0.0789,  0.1379,  0.0857,\n",
      "        -0.0978,  0.0451, -0.1299, -0.0399,  0.1569, -0.0881,  0.1159, -0.1066,\n",
      "         0.1868,  0.1231,  0.1310,  0.0684,  0.0245, -0.0436, -0.0422, -0.0254,\n",
      "         0.1416,  0.0646,  0.0542, -0.1302,  0.0953, -0.0283, -0.1111,  0.0509,\n",
      "        -0.3098,  0.1071, -0.0169, -0.1713, -0.1465, -0.1997, -0.2019, -0.2048,\n",
      "         0.0377, -0.1494, -0.3414, -0.2250, -0.3694, -0.2999, -0.4323, -0.0666,\n",
      "        -0.4958, -0.0033, -0.1327, -0.2680, -0.1178, -0.4034, -0.0700,  0.0196,\n",
      "        -0.1017,  0.1534,  0.0283, -0.0952, -0.0673, -0.0733, -0.0489, -0.4433,\n",
      "         0.1054,  0.1429,  0.1392,  0.0044, -0.1155, -0.1312,  0.1936, -0.1905,\n",
      "         0.0626,  0.0096,  0.1832,  0.1283, -0.0772, -0.1729,  0.0014, -0.1426,\n",
      "        -0.0728,  0.0752,  0.1078, -0.0296, -0.1397, -0.1866, -0.1869,  0.0100,\n",
      "        -0.1344, -0.0083, -0.0581, -0.1432,  0.1333,  0.1156,  0.1452,  0.1875])), ('bias_hh_l0', tensor([-0.1185,  0.0017, -0.0800,  0.1063,  0.1804,  0.1413, -0.0761, -0.0575,\n",
      "         0.1783, -0.0903, -0.0857,  0.0913, -0.0130, -0.0628,  0.0882,  0.1525,\n",
      "         0.0692, -0.0869,  0.1202,  0.1886, -0.0836,  0.0211, -0.0615,  0.0012,\n",
      "         0.0677,  0.1793,  0.1159, -0.1305,  0.0265,  0.0979,  0.0073, -0.0057,\n",
      "        -0.3364,  0.0786, -0.0167, -0.1684, -0.1797, -0.1882, -0.2019, -0.2203,\n",
      "         0.0389, -0.1662, -0.2914, -0.2007, -0.3912, -0.3510, -0.4274, -0.0696,\n",
      "        -0.5576, -0.0178, -0.1381, -0.2867, -0.1207, -0.4741, -0.0706, -0.0086,\n",
      "        -0.0965,  0.1477,  0.0174, -0.0956, -0.0640, -0.0870, -0.0535, -0.4169,\n",
      "        -0.1499,  0.1132,  0.1085, -0.1402,  0.0286, -0.0892,  0.1710, -0.0920,\n",
      "         0.1663,  0.1505,  0.1135,  0.1449,  0.0260,  0.0361, -0.1659, -0.0597,\n",
      "        -0.0641,  0.1155, -0.0462,  0.1000,  0.0975,  0.0473,  0.0695, -0.0344,\n",
      "         0.0551, -0.0763,  0.1778, -0.0293,  0.0042, -0.1419,  0.1840, -0.0147])), ('weight_ih_l0_reverse', tensor([[ 0.0171],\n",
      "        [-0.0240],\n",
      "        [-0.1088],\n",
      "        [ 0.0212],\n",
      "        [-0.1385],\n",
      "        [ 0.1166],\n",
      "        [ 0.0331],\n",
      "        [-0.0709],\n",
      "        [ 0.0449],\n",
      "        [ 0.0946],\n",
      "        [-0.1851],\n",
      "        [-0.0933],\n",
      "        [-0.0067],\n",
      "        [-0.0526],\n",
      "        [ 0.0119],\n",
      "        [-0.0729],\n",
      "        [ 0.0217],\n",
      "        [ 0.0040],\n",
      "        [-0.0225],\n",
      "        [-0.0278],\n",
      "        [ 0.0670],\n",
      "        [-0.0061],\n",
      "        [-0.0079],\n",
      "        [ 0.0314],\n",
      "        [-0.0625],\n",
      "        [ 0.2104],\n",
      "        [ 0.1244],\n",
      "        [ 0.1802],\n",
      "        [-0.0633],\n",
      "        [-0.0715],\n",
      "        [ 0.0172],\n",
      "        [ 0.0646],\n",
      "        [-0.0409],\n",
      "        [-0.3092],\n",
      "        [ 0.0030],\n",
      "        [-0.0216],\n",
      "        [-0.1770],\n",
      "        [-0.2834],\n",
      "        [ 0.0319],\n",
      "        [-0.1184],\n",
      "        [-0.1101],\n",
      "        [-0.0064],\n",
      "        [-0.1672],\n",
      "        [-0.0135],\n",
      "        [-0.1793],\n",
      "        [-0.0265],\n",
      "        [-0.0785],\n",
      "        [-0.0516],\n",
      "        [ 0.0984],\n",
      "        [-0.2873],\n",
      "        [-0.0142],\n",
      "        [-0.0696],\n",
      "        [-0.0116],\n",
      "        [ 0.0695],\n",
      "        [-0.0347],\n",
      "        [ 0.1078],\n",
      "        [-0.0890],\n",
      "        [-0.2810],\n",
      "        [-0.0838],\n",
      "        [-0.2728],\n",
      "        [-0.1227],\n",
      "        [-0.0148],\n",
      "        [-0.0754],\n",
      "        [-0.0272],\n",
      "        [-0.0347],\n",
      "        [ 0.2524],\n",
      "        [-0.0065],\n",
      "        [ 0.1358],\n",
      "        [-0.1696],\n",
      "        [ 0.2384],\n",
      "        [ 0.1993],\n",
      "        [-0.1419],\n",
      "        [-0.1668],\n",
      "        [-0.0657],\n",
      "        [-0.1931],\n",
      "        [ 0.0535],\n",
      "        [ 0.1270],\n",
      "        [-0.0296],\n",
      "        [ 0.1168],\n",
      "        [ 0.0661],\n",
      "        [-0.0645],\n",
      "        [-0.2426],\n",
      "        [ 0.0580],\n",
      "        [-0.1892],\n",
      "        [-0.0450],\n",
      "        [ 0.0065],\n",
      "        [-0.0921],\n",
      "        [ 0.0759],\n",
      "        [ 0.0927],\n",
      "        [ 0.2537],\n",
      "        [ 0.1051],\n",
      "        [-0.2406],\n",
      "        [-0.1557],\n",
      "        [-0.0498],\n",
      "        [-0.1317],\n",
      "        [ 0.0804]])), ('weight_hh_l0_reverse', tensor([[ 0.0059,  0.0005, -0.0111,  ..., -0.0103,  0.0085,  0.0077],\n",
      "        [-0.0499, -0.0057,  0.0306,  ...,  0.0128, -0.0750,  0.0127],\n",
      "        [-0.0365, -0.0231, -0.0424,  ..., -0.0858,  0.1039,  0.0830],\n",
      "        ...,\n",
      "        [-0.1541,  0.0070,  0.1826,  ...,  0.0335,  0.0399,  0.0179],\n",
      "        [ 0.1731,  0.0731, -0.0326,  ..., -0.1333, -0.0549,  0.0102],\n",
      "        [ 0.1033, -0.1212,  0.0237,  ..., -0.0982, -0.0574, -0.0074]])), ('bias_ih_l0_reverse', tensor([ 0.0272,  0.1259,  0.1700,  0.0287, -0.1148,  0.0323,  0.0254,  0.1507,\n",
      "        -0.0217, -0.1328, -0.0172, -0.0141,  0.0601,  0.0267,  0.0369,  0.0899,\n",
      "        -0.0721, -0.1138,  0.1413,  0.1719,  0.0522,  0.1041,  0.0062, -0.0068,\n",
      "        -0.0892, -0.0025,  0.1570,  0.0405, -0.0522,  0.1426, -0.0635,  0.1776,\n",
      "        -0.0650, -0.3190,  0.0008, -0.0280, -0.2209, -0.3294,  0.0670, -0.1824,\n",
      "        -0.1662, -0.0056, -0.2410, -0.0223, -0.2300, -0.0434, -0.1205, -0.0866,\n",
      "         0.1449, -0.3091, -0.0243, -0.0672, -0.0112,  0.0669, -0.0573,  0.1027,\n",
      "        -0.1318, -0.2743, -0.1182, -0.3585, -0.1773, -0.0321, -0.1384, -0.0192,\n",
      "         0.1710, -0.1657, -0.1772,  0.0666,  0.1435, -0.1495,  0.0791,  0.1937,\n",
      "        -0.0131, -0.1203,  0.0992,  0.1185, -0.0309, -0.1647, -0.0122, -0.1350,\n",
      "        -0.1707,  0.1267,  0.1446,  0.0487, -0.1780,  0.1458,  0.1506,  0.1715,\n",
      "        -0.0080, -0.0090, -0.1799,  0.1272,  0.0088, -0.1918,  0.1923, -0.0007])), ('bias_hh_l0_reverse', tensor([ 4.1882e-02, -2.9838e-02, -1.4464e-03,  1.0546e-01,  1.4944e-01,\n",
      "        -5.0578e-02,  2.6653e-02,  1.2454e-01,  1.7407e-02, -1.2546e-02,\n",
      "         7.9865e-03,  1.5810e-01, -3.3757e-02,  8.3764e-02, -3.1306e-02,\n",
      "         2.5680e-02,  1.3367e-01, -1.7192e-02,  8.8196e-03, -1.3272e-02,\n",
      "         3.2113e-02,  8.6778e-02, -1.2589e-01, -4.8559e-02,  1.6706e-02,\n",
      "         3.4546e-02,  2.7785e-02,  9.4916e-02,  1.7356e-01, -9.6192e-02,\n",
      "        -8.2117e-02,  5.2610e-02, -6.4613e-02, -3.6387e-01,  2.8977e-04,\n",
      "        -2.7408e-02, -2.3993e-01, -3.3070e-01,  7.8342e-02, -1.8756e-01,\n",
      "        -1.5989e-01, -5.5601e-03, -2.1648e-01, -2.2389e-02, -2.3789e-01,\n",
      "        -4.4084e-02, -1.2161e-01, -8.6272e-02,  1.4227e-01, -3.1482e-01,\n",
      "        -2.3429e-02, -7.7769e-02, -1.0882e-02,  4.4145e-02, -5.9901e-02,\n",
      "         1.0442e-01, -1.3765e-01, -3.1038e-01, -1.2576e-01, -3.1744e-01,\n",
      "        -1.8848e-01, -3.1424e-02, -1.3007e-01, -1.9256e-02,  9.5255e-02,\n",
      "         8.3888e-02, -1.7375e-01, -1.0707e-02,  1.7148e-01,  1.6108e-01,\n",
      "         1.4303e-01,  1.8218e-01, -4.0277e-02, -1.5192e-01,  1.1484e-01,\n",
      "         1.3132e-01, -6.4806e-02, -3.7582e-02, -2.7424e-02, -1.7694e-01,\n",
      "        -9.3102e-02, -3.6860e-02,  8.9267e-02, -7.3195e-02,  3.8976e-02,\n",
      "         1.5442e-01, -1.6002e-02, -2.2215e-02, -1.0600e-01,  1.5084e-02,\n",
      "        -1.8251e-01,  1.1251e-01,  1.6922e-01,  2.9242e-02,  1.8528e-01,\n",
      "         1.1051e-01]))])), ('gru_layers.1', OrderedDict([('weight_ih_l0', tensor([[ 0.0038,  0.0029,  0.0027,  ..., -0.0035,  0.0025,  0.0032],\n",
      "        [ 0.0135,  0.0192,  0.0220,  ..., -0.0435, -0.0109,  0.0140],\n",
      "        [ 0.0092,  0.0093,  0.0008,  ..., -0.0072,  0.0118,  0.0058],\n",
      "        ...,\n",
      "        [-0.0126, -0.0308, -0.0480,  ..., -0.0450,  0.0208,  0.1131],\n",
      "        [ 0.0526, -0.1001,  0.0401,  ..., -0.0174, -0.0692,  0.0041],\n",
      "        [ 0.0454,  0.1216,  0.0973,  ..., -0.0169,  0.0397,  0.1057]])), ('weight_hh_l0', tensor([[ 0.0050,  0.0065,  0.0062,  ...,  0.0037, -0.0025,  0.0048],\n",
      "        [ 0.0155,  0.0185,  0.0122,  ...,  0.0249, -0.0059,  0.0168],\n",
      "        [ 0.0172,  0.0130,  0.0087,  ...,  0.0033, -0.0009,  0.0070],\n",
      "        ...,\n",
      "        [ 0.0512, -0.0537, -0.0372,  ..., -0.0655, -0.0689,  0.0296],\n",
      "        [ 0.0247,  0.0606,  0.1063,  ..., -0.0213, -0.0150,  0.0670],\n",
      "        [ 0.0447, -0.0258,  0.0316,  ...,  0.0794, -0.0436, -0.0359]])), ('bias_ih_l0', tensor([ 0.0186,  0.0429, -0.0120, -0.0977, -0.0225,  0.0285,  0.0525, -0.0225,\n",
      "         0.0090,  0.0072,  0.0377, -0.0677, -0.0246, -0.0864,  0.0376, -0.0536,\n",
      "        -0.0702,  0.0931, -0.0261,  0.0254,  0.0298,  0.0243, -0.0832, -0.0471,\n",
      "        -0.0868,  0.0045,  0.0358, -0.0387,  0.0531, -0.0419, -0.0584, -0.0395,\n",
      "        -0.0140,  0.1134,  0.0988, -0.0966, -0.0106,  0.0470,  0.0064,  0.0033,\n",
      "         0.0169, -0.0066, -0.0597,  0.0334,  0.0079, -0.0397, -0.0522, -0.0120,\n",
      "         0.0371, -0.0074, -0.0704,  0.0369, -0.0002, -0.0395,  0.0752, -0.0961,\n",
      "        -0.0540, -0.0376,  0.0058,  0.0370, -0.1060,  0.0294,  0.0548,  0.0019,\n",
      "        -0.0387, -0.0367, -0.0385,  0.0104, -0.0292, -0.0632,  0.0161, -0.0032,\n",
      "         0.0414, -0.0102, -0.1041, -0.0012, -0.0874, -0.0062, -0.0072, -0.0138,\n",
      "         0.0275,  0.0138, -0.0030,  0.0034, -0.0143, -0.0373,  0.0026,  0.0022,\n",
      "         0.0621, -0.0251,  0.0261, -0.0492, -0.0128, -0.0862,  0.0061, -0.0359,\n",
      "        -0.0080,  0.0275, -0.0958,  0.0413,  0.0203, -0.0114, -0.0005, -0.0542,\n",
      "        -0.0879, -0.0569, -0.0036,  0.0572,  0.0278,  0.0009, -0.0157,  0.0040,\n",
      "         0.0006, -0.0026,  0.0244,  0.0244, -0.0113, -0.0607, -0.0219, -0.0429,\n",
      "        -0.0290, -0.0307, -0.0050, -0.0779,  0.0090,  0.0379, -0.0390,  0.0076,\n",
      "         0.0111, -0.1022,  0.0383,  0.1375, -0.0274,  0.0319,  0.0652, -0.0425,\n",
      "         0.0485, -0.0039,  0.1113, -0.0414,  0.0856, -0.0836,  0.0067, -0.0418,\n",
      "        -0.0066,  0.0409,  0.1391, -0.0537,  0.0836,  0.0559,  0.0923,  0.0329,\n",
      "         0.0025, -0.0949, -0.0173, -0.0523,  0.1084,  0.0436, -0.0264, -0.0240,\n",
      "         0.0635,  0.0921, -0.0763,  0.0141,  0.0245, -0.0781,  0.0749,  0.0338,\n",
      "        -0.0108,  0.0449, -0.0929, -0.1211, -0.1367, -0.0556, -0.0214, -0.0540,\n",
      "        -0.1395,  0.0430, -0.0423, -0.1340, -0.1339,  0.1025, -0.1252,  0.0901,\n",
      "         0.0303,  0.1147, -0.1174,  0.0722,  0.0719,  0.0124, -0.0130, -0.0686])), ('bias_hh_l0', tensor([ 0.0310,  0.0573,  0.0532, -0.0206, -0.0632,  0.0514, -0.0629,  0.0125,\n",
      "        -0.0089,  0.0086, -0.0266, -0.0350, -0.0516, -0.0287,  0.0227,  0.0249,\n",
      "         0.0931, -0.0484,  0.0286, -0.0027, -0.0405,  0.0036,  0.0027, -0.0463,\n",
      "        -0.0760, -0.0513,  0.0811, -0.0269, -0.0284, -0.0033, -0.0737,  0.1118,\n",
      "         0.0339, -0.0484, -0.0072,  0.0270, -0.0776,  0.0764,  0.0909,  0.0448,\n",
      "        -0.0584, -0.0368, -0.0126,  0.1085, -0.0163,  0.0334, -0.0223, -0.0332,\n",
      "        -0.0168, -0.0112, -0.0179,  0.0093,  0.0313,  0.0154, -0.0002, -0.0333,\n",
      "         0.1028,  0.0394,  0.0019,  0.0567,  0.0396,  0.0786, -0.0732,  0.0383,\n",
      "        -0.0363, -0.0366, -0.0385,  0.0105, -0.0267, -0.0622,  0.0160, -0.0032,\n",
      "         0.0315, -0.0102, -0.1036, -0.0013, -0.0847, -0.0066, -0.0067, -0.0139,\n",
      "         0.0279,  0.0137, -0.0043,  0.0033, -0.0201, -0.0380,  0.0028,  0.0006,\n",
      "         0.0640, -0.0255,  0.0260, -0.0490, -0.0128, -0.0887,  0.0059, -0.0373,\n",
      "        -0.0081,  0.0278, -0.0918,  0.0389,  0.0207, -0.0113, -0.0020, -0.0545,\n",
      "        -0.0888, -0.0573, -0.0053,  0.0630,  0.0270,  0.0004, -0.0159,  0.0044,\n",
      "         0.0068, -0.0026,  0.0241,  0.0245, -0.0096, -0.0630, -0.0242, -0.0396,\n",
      "        -0.0259, -0.0326, -0.0050, -0.0761,  0.0089,  0.0364, -0.0423,  0.0076,\n",
      "         0.0382,  0.1286, -0.0667, -0.0758, -0.0519, -0.0222,  0.0420, -0.1019,\n",
      "         0.0802,  0.0384,  0.1222,  0.0469,  0.0962, -0.0115,  0.0198,  0.0600,\n",
      "         0.0162,  0.0878,  0.0977, -0.0007,  0.0400,  0.0061, -0.1328,  0.1090,\n",
      "        -0.0771,  0.0202, -0.0216, -0.0920, -0.1317,  0.0616,  0.0897, -0.1178,\n",
      "        -0.0310, -0.0427, -0.1137, -0.1345,  0.0387,  0.0508,  0.0812,  0.0782,\n",
      "         0.0088, -0.0159,  0.0406, -0.0425, -0.0645, -0.0280,  0.0811, -0.0136,\n",
      "        -0.0314,  0.1027,  0.0532,  0.0373, -0.0112, -0.0573,  0.0653, -0.0517,\n",
      "         0.1104,  0.0259,  0.0740, -0.0487,  0.0172,  0.0397, -0.0966, -0.0315])), ('weight_ih_l0_reverse', tensor([[ 0.0191,  0.0113,  0.0288,  ..., -0.0148,  0.0202,  0.0165],\n",
      "        [ 0.0687,  0.0739,  0.0622,  ..., -0.0711,  0.0759,  0.0654],\n",
      "        [ 0.0019,  0.0290, -0.0498,  ...,  0.0558, -0.0173,  0.0340],\n",
      "        ...,\n",
      "        [-0.0104,  0.1028,  0.0608,  ...,  0.0643, -0.0667,  0.0943],\n",
      "        [ 0.0730,  0.0492, -0.0793,  ..., -0.0890, -0.0197,  0.0121],\n",
      "        [ 0.2008,  0.0552,  0.0850,  ...,  0.0364, -0.0709,  0.0875]])), ('weight_hh_l0_reverse', tensor([[ 0.0009,  0.0199, -0.0006,  ...,  0.0360,  0.0164,  0.0418],\n",
      "        [ 0.0017,  0.0552,  0.0485,  ..., -0.0810, -0.1549,  0.1010],\n",
      "        [-0.0178, -0.0134,  0.0055,  ..., -0.0633, -0.0692,  0.0212],\n",
      "        ...,\n",
      "        [-0.0301,  0.0329,  0.0128,  ...,  0.0090,  0.0348,  0.0475],\n",
      "        [ 0.0635,  0.1304,  0.0736,  ...,  0.0454, -0.0143, -0.0404],\n",
      "        [ 0.0459,  0.2609, -0.0397,  ...,  0.0340, -0.0671,  0.2253]])), ('bias_ih_l0_reverse', tensor([ 0.0017,  0.1491, -0.0484,  0.0505, -0.0361, -0.0284,  0.0343,  0.0833,\n",
      "         0.0156, -0.0345,  0.0997,  0.0116,  0.0208, -0.0247, -0.0478, -0.0605,\n",
      "         0.0150, -0.0473, -0.0241,  0.0510,  0.0606,  0.0115,  0.0134,  0.0410,\n",
      "         0.0980,  0.0386,  0.1197, -0.0549,  0.0531,  0.0437, -0.0049,  0.0797,\n",
      "        -0.0057,  0.1128,  0.0526,  0.0271,  0.1177, -0.0640, -0.0254, -0.0147,\n",
      "        -0.0644,  0.1024,  0.0105,  0.0807, -0.0372,  0.0524,  0.0643, -0.0624,\n",
      "        -0.0640, -0.0288,  0.0371,  0.0753, -0.0909,  0.1121, -0.0867, -0.0174,\n",
      "         0.1073, -0.0203,  0.1040, -0.0496,  0.1342,  0.0679,  0.0651, -0.0017,\n",
      "        -0.1148, -0.1656, -0.1510, -0.1683, -0.0031, -0.1578, -0.0861, -0.0182,\n",
      "        -0.1048, -0.1098, -0.0895, -0.2576, -0.1005, -0.0964, -0.1109, -0.0170,\n",
      "        -0.0286, -0.1492, -0.0383, -0.1604, -0.0775, -0.0662, -0.0506, -0.1313,\n",
      "        -0.1528, -0.0590, -0.1642,  0.0998, -0.0785, -0.0052, -0.1271, -0.1170,\n",
      "        -0.0905, -0.0396,  0.0786, -0.1128, -0.0999, -0.1229, -0.1716, -0.0284,\n",
      "        -0.0704, -0.0376, -0.0663, -0.1669, -0.0355, -0.1024, -0.0208, -0.1004,\n",
      "        -0.0018, -0.0658, -0.0853, -0.0030, -0.0417, -0.1989, -0.0322, -0.1334,\n",
      "        -0.0324, -0.1303,  0.0042, -0.0404,  0.0507,  0.1162, -0.0640, -0.1568,\n",
      "        -0.0567,  0.0004,  0.0098,  0.1389, -0.0579, -0.0644, -0.0985,  0.1293,\n",
      "         0.0154, -0.0363,  0.0778, -0.0067, -0.0628, -0.0706,  0.0255, -0.1398,\n",
      "        -0.0131,  0.0622,  0.0066,  0.0929, -0.0082,  0.0891, -0.0879,  0.0294,\n",
      "        -0.0220,  0.0928, -0.0736,  0.0244,  0.0379, -0.1455, -0.1160,  0.0378,\n",
      "        -0.0266, -0.0552, -0.1315,  0.0843, -0.1169,  0.0671, -0.0723, -0.0356,\n",
      "        -0.0685,  0.0208, -0.0966, -0.0287,  0.0249,  0.1184, -0.0239, -0.0772,\n",
      "        -0.1422, -0.0465, -0.0787,  0.0457,  0.0680,  0.0312, -0.0618,  0.0565,\n",
      "         0.0183,  0.0799, -0.0332, -0.0083,  0.0921,  0.0705, -0.1132, -0.0852])), ('bias_hh_l0_reverse', tensor([ 1.0236e-02,  1.8005e-02, -7.6450e-02, -2.9003e-02,  1.7910e-02,\n",
      "        -2.1757e-02,  4.9360e-02,  7.8894e-02, -7.7325e-02, -1.5090e-02,\n",
      "        -2.6687e-02,  5.5138e-02,  7.4702e-02,  2.9824e-03, -5.3445e-02,\n",
      "         5.7316e-02,  9.4910e-02, -3.9435e-03,  3.2625e-02,  1.1249e-01,\n",
      "         9.7438e-02,  9.7189e-02, -9.7114e-05, -4.0111e-02,  3.5644e-02,\n",
      "         8.2101e-02,  6.3119e-02, -3.7586e-02,  7.1145e-02,  3.0882e-02,\n",
      "         1.0708e-02,  1.1960e-01,  8.0373e-02,  9.5856e-02, -1.5793e-02,\n",
      "         5.0382e-02,  9.3907e-03,  8.3364e-02,  9.9631e-02, -4.8434e-02,\n",
      "        -6.7039e-02, -6.5221e-02, -2.9480e-02,  4.4101e-02, -8.0922e-03,\n",
      "        -7.0945e-02, -3.7745e-02,  3.4871e-02, -6.7687e-02,  3.9533e-02,\n",
      "         4.2177e-03, -3.4739e-02, -7.9731e-02,  5.1961e-02, -4.2602e-02,\n",
      "         2.5511e-02,  3.4097e-03,  7.4308e-02,  5.6613e-03, -4.2923e-02,\n",
      "         1.0551e-01,  9.5179e-02,  2.1300e-02, -6.9888e-03, -1.1472e-01,\n",
      "        -2.0001e-01, -1.5161e-01, -1.6043e-01, -1.0359e-02, -1.5377e-01,\n",
      "        -8.5886e-02, -2.1019e-02, -1.0788e-01, -1.1173e-01, -8.9533e-02,\n",
      "        -2.2149e-01, -1.0072e-01, -9.6966e-02, -1.1098e-01, -1.6386e-02,\n",
      "        -2.8011e-02, -1.4920e-01, -3.8109e-02, -1.6470e-01, -7.1619e-02,\n",
      "        -6.8226e-02, -5.1081e-02, -1.3172e-01, -1.5235e-01, -6.1333e-02,\n",
      "        -1.6417e-01,  9.8703e-02, -8.6266e-02, -5.0515e-03, -1.2189e-01,\n",
      "        -1.2825e-01, -8.4316e-02, -3.9479e-02,  7.7505e-02, -1.1293e-01,\n",
      "        -9.4573e-02, -1.2803e-01, -1.7209e-01, -2.8553e-02, -7.2754e-02,\n",
      "        -2.8746e-02, -6.4664e-02, -1.5549e-01, -3.5665e-02, -1.0165e-01,\n",
      "        -2.0705e-02, -9.7273e-02, -1.7132e-03, -6.4909e-02, -8.6003e-02,\n",
      "        -2.9371e-03, -4.1820e-02, -1.9246e-01, -3.2109e-02, -1.3377e-01,\n",
      "        -2.9765e-02, -1.3004e-01,  1.0569e-02, -4.0427e-02,  4.8847e-02,\n",
      "         1.4017e-01, -6.3677e-02, -1.5657e-01, -6.8063e-02, -1.4089e-01,\n",
      "         5.8166e-02, -5.6409e-02,  8.2600e-02, -7.2784e-02, -9.7535e-03,\n",
      "        -3.3178e-02,  3.8933e-02,  4.2258e-02, -4.9422e-02, -1.9290e-02,\n",
      "         1.3245e-01, -8.1781e-02, -9.0640e-02, -4.9049e-02, -1.0039e-01,\n",
      "         7.8279e-02,  1.2433e-01, -1.3021e-01,  1.0614e-01, -6.7067e-03,\n",
      "         4.7659e-02, -4.5594e-02,  2.2627e-02,  6.1688e-02,  2.2717e-02,\n",
      "         8.3259e-02, -5.8621e-02, -9.3452e-02, -7.2272e-02,  9.6295e-02,\n",
      "        -1.1195e-01,  1.0337e-01, -3.1528e-02,  9.1645e-02, -1.4137e-01,\n",
      "         4.1262e-02,  4.3487e-02, -1.0739e-02, -8.0898e-02, -1.3324e-01,\n",
      "         8.4511e-02,  4.0653e-02,  1.4380e-01, -1.0324e-01,  1.1234e-01,\n",
      "         2.9583e-03, -1.0061e-01, -9.0458e-02,  7.2599e-02,  4.3704e-02,\n",
      "         1.0626e-01,  2.7256e-02,  4.2347e-02, -5.2277e-04, -1.1466e-01,\n",
      "         3.8073e-02,  9.7408e-02,  4.2620e-02,  1.8606e-02, -3.0482e-02,\n",
      "         9.8611e-03,  6.1619e-02]))]))])\n",
      "layer_name: gru_layers.0\n",
      "hi - gru_layers.0\n"
     ]
    },
    {
     "ename": "RuntimeError",
     "evalue": "Error(s) in loading state_dict for GRU:\n\tsize mismatch for weight_ih_l0: copying a param with shape torch.Size([96, 1]) from checkpoint, the shape in current model is torch.Size([192, 1]).\n\tsize mismatch for weight_hh_l0: copying a param with shape torch.Size([96, 32]) from checkpoint, the shape in current model is torch.Size([192, 64]).\n\tsize mismatch for bias_ih_l0: copying a param with shape torch.Size([96]) from checkpoint, the shape in current model is torch.Size([192]).\n\tsize mismatch for bias_hh_l0: copying a param with shape torch.Size([96]) from checkpoint, the shape in current model is torch.Size([192]).\n\tsize mismatch for weight_ih_l0_reverse: copying a param with shape torch.Size([96, 1]) from checkpoint, the shape in current model is torch.Size([192, 1]).\n\tsize mismatch for weight_hh_l0_reverse: copying a param with shape torch.Size([96, 32]) from checkpoint, the shape in current model is torch.Size([192, 64]).\n\tsize mismatch for bias_ih_l0_reverse: copying a param with shape torch.Size([96]) from checkpoint, the shape in current model is torch.Size([192]).\n\tsize mismatch for bias_hh_l0_reverse: copying a param with shape torch.Size([96]) from checkpoint, the shape in current model is torch.Size([192]).",
     "output_type": "error",
     "traceback": [
      "\u001b[1;31m---------------------------------------------------------------------------\u001b[0m",
      "\u001b[1;31mRuntimeError\u001b[0m                              Traceback (most recent call last)",
      "Cell \u001b[1;32mIn[21], line 1\u001b[0m\n\u001b[1;32m----> 1\u001b[0m \u001b[43mfactory\u001b[49m\u001b[38;5;241;43m.\u001b[39;49m\u001b[43mconfigure_tl_model\u001b[49m\u001b[43m(\u001b[49m\n\u001b[0;32m      2\u001b[0m \u001b[43m    \u001b[49m\u001b[43mtl_model\u001b[49m\u001b[38;5;241;43m=\u001b[39;49m\u001b[43mtl_model\u001b[49m\u001b[43m,\u001b[49m\n\u001b[0;32m      3\u001b[0m \u001b[43m    \u001b[49m\u001b[43mlayer_mapping\u001b[49m\u001b[38;5;241;43m=\u001b[39;49m\u001b[43mlayer_mapping\u001b[49m\u001b[43m,\u001b[49m\u001b[43m  \u001b[49m\u001b[38;5;66;43;03m# map layer weights to those extracted from the prod model\u001b[39;49;00m\n\u001b[0;32m      4\u001b[0m \u001b[43m    \u001b[49m\u001b[43mfreeze_layers\u001b[49m\u001b[38;5;241;43m=\u001b[39;49m\u001b[43mfreeze_layers\u001b[49m\u001b[43m,\u001b[49m\n\u001b[0;32m      5\u001b[0m \u001b[43m    \u001b[49m\u001b[43munfreeze_layers\u001b[49m\u001b[38;5;241;43m=\u001b[39;49m\u001b[43munfreeze_layers\u001b[49m\n\u001b[0;32m      6\u001b[0m \u001b[43m)\u001b[49m\n",
      "File \u001b[1;32m~\\dev\\NeuralLib\\NeuralLib\\model_hub\\TL.py:142\u001b[0m, in \u001b[0;36mTLFactory.configure_tl_model\u001b[1;34m(self, tl_model, layer_mapping, freeze_layers, unfreeze_layers)\u001b[0m\n\u001b[0;32m    140\u001b[0m \u001b[38;5;66;03m# Step 1: Inject Weights\u001b[39;00m\n\u001b[0;32m    141\u001b[0m \u001b[38;5;28mprint\u001b[39m(\u001b[38;5;124m\"\u001b[39m\u001b[38;5;124m🔄 Injecting weights into TLModel layers...\u001b[39m\u001b[38;5;124m\"\u001b[39m)\n\u001b[1;32m--> 142\u001b[0m \u001b[43mtl_model\u001b[49m\u001b[38;5;241;43m.\u001b[39;49m\u001b[43minject_weights\u001b[49m\u001b[43m(\u001b[49m\u001b[43mlayer_mapping\u001b[49m\u001b[43m)\u001b[49m\n\u001b[0;32m    144\u001b[0m \u001b[38;5;66;03m# Step 2: Freeze Layers\u001b[39;00m\n\u001b[0;32m    145\u001b[0m \u001b[38;5;28;01mif\u001b[39;00m freeze_layers:\n",
      "File \u001b[1;32m~\\dev\\NeuralLib\\NeuralLib\\model_hub\\TL.py:49\u001b[0m, in \u001b[0;36mTLModel.inject_weights\u001b[1;34m(self, layer_mapping)\u001b[0m\n\u001b[0;32m     46\u001b[0m             current_attr \u001b[38;5;241m=\u001b[39m \u001b[38;5;28mgetattr\u001b[39m(current_attr, part)\n\u001b[0;32m     48\u001b[0m     \u001b[38;5;66;03m# Load the state_dict into the target layer\u001b[39;00m\n\u001b[1;32m---> 49\u001b[0m     \u001b[43mcurrent_attr\u001b[49m\u001b[38;5;241;43m.\u001b[39;49m\u001b[43mload_state_dict\u001b[49m\u001b[43m(\u001b[49m\u001b[43msource_state_dict\u001b[49m\u001b[43m)\u001b[49m\n\u001b[0;32m     50\u001b[0m     \u001b[38;5;28mprint\u001b[39m(\u001b[38;5;124mf\u001b[39m\u001b[38;5;124m\"\u001b[39m\u001b[38;5;124m✅ Weights injected into \u001b[39m\u001b[38;5;132;01m{\u001b[39;00mlayer_name\u001b[38;5;132;01m}\u001b[39;00m\u001b[38;5;124m from source layer.\u001b[39m\u001b[38;5;124m\"\u001b[39m)\n\u001b[0;32m     51\u001b[0m \u001b[38;5;28;01melse\u001b[39;00m:\n",
      "File \u001b[1;32m~\\dev\\envs\\NeuralLibraryEnv\\lib\\site-packages\\torch\\nn\\modules\\module.py:2152\u001b[0m, in \u001b[0;36mModule.load_state_dict\u001b[1;34m(self, state_dict, strict, assign)\u001b[0m\n\u001b[0;32m   2147\u001b[0m         error_msgs\u001b[38;5;241m.\u001b[39minsert(\n\u001b[0;32m   2148\u001b[0m             \u001b[38;5;241m0\u001b[39m, \u001b[38;5;124m'\u001b[39m\u001b[38;5;124mMissing key(s) in state_dict: \u001b[39m\u001b[38;5;132;01m{}\u001b[39;00m\u001b[38;5;124m. \u001b[39m\u001b[38;5;124m'\u001b[39m\u001b[38;5;241m.\u001b[39mformat(\n\u001b[0;32m   2149\u001b[0m                 \u001b[38;5;124m'\u001b[39m\u001b[38;5;124m, \u001b[39m\u001b[38;5;124m'\u001b[39m\u001b[38;5;241m.\u001b[39mjoin(\u001b[38;5;124mf\u001b[39m\u001b[38;5;124m'\u001b[39m\u001b[38;5;124m\"\u001b[39m\u001b[38;5;132;01m{\u001b[39;00mk\u001b[38;5;132;01m}\u001b[39;00m\u001b[38;5;124m\"\u001b[39m\u001b[38;5;124m'\u001b[39m \u001b[38;5;28;01mfor\u001b[39;00m k \u001b[38;5;129;01min\u001b[39;00m missing_keys)))\n\u001b[0;32m   2151\u001b[0m \u001b[38;5;28;01mif\u001b[39;00m \u001b[38;5;28mlen\u001b[39m(error_msgs) \u001b[38;5;241m>\u001b[39m \u001b[38;5;241m0\u001b[39m:\n\u001b[1;32m-> 2152\u001b[0m     \u001b[38;5;28;01mraise\u001b[39;00m \u001b[38;5;167;01mRuntimeError\u001b[39;00m(\u001b[38;5;124m'\u001b[39m\u001b[38;5;124mError(s) in loading state_dict for \u001b[39m\u001b[38;5;132;01m{}\u001b[39;00m\u001b[38;5;124m:\u001b[39m\u001b[38;5;130;01m\\n\u001b[39;00m\u001b[38;5;130;01m\\t\u001b[39;00m\u001b[38;5;132;01m{}\u001b[39;00m\u001b[38;5;124m'\u001b[39m\u001b[38;5;241m.\u001b[39mformat(\n\u001b[0;32m   2153\u001b[0m                        \u001b[38;5;28mself\u001b[39m\u001b[38;5;241m.\u001b[39m\u001b[38;5;18m__class__\u001b[39m\u001b[38;5;241m.\u001b[39m\u001b[38;5;18m__name__\u001b[39m, \u001b[38;5;124m\"\u001b[39m\u001b[38;5;130;01m\\n\u001b[39;00m\u001b[38;5;130;01m\\t\u001b[39;00m\u001b[38;5;124m\"\u001b[39m\u001b[38;5;241m.\u001b[39mjoin(error_msgs)))\n\u001b[0;32m   2154\u001b[0m \u001b[38;5;28;01mreturn\u001b[39;00m _IncompatibleKeys(missing_keys, unexpected_keys)\n",
      "\u001b[1;31mRuntimeError\u001b[0m: Error(s) in loading state_dict for GRU:\n\tsize mismatch for weight_ih_l0: copying a param with shape torch.Size([96, 1]) from checkpoint, the shape in current model is torch.Size([192, 1]).\n\tsize mismatch for weight_hh_l0: copying a param with shape torch.Size([96, 32]) from checkpoint, the shape in current model is torch.Size([192, 64]).\n\tsize mismatch for bias_ih_l0: copying a param with shape torch.Size([96]) from checkpoint, the shape in current model is torch.Size([192]).\n\tsize mismatch for bias_hh_l0: copying a param with shape torch.Size([96]) from checkpoint, the shape in current model is torch.Size([192]).\n\tsize mismatch for weight_ih_l0_reverse: copying a param with shape torch.Size([96, 1]) from checkpoint, the shape in current model is torch.Size([192, 1]).\n\tsize mismatch for weight_hh_l0_reverse: copying a param with shape torch.Size([96, 32]) from checkpoint, the shape in current model is torch.Size([192, 64]).\n\tsize mismatch for bias_ih_l0_reverse: copying a param with shape torch.Size([96]) from checkpoint, the shape in current model is torch.Size([192]).\n\tsize mismatch for bias_hh_l0_reverse: copying a param with shape torch.Size([96]) from checkpoint, the shape in current model is torch.Size([192])."
     ]
    }
   ],
   "source": [
    "factory.configure_tl_model(\n",
    "    tl_model=tl_model,\n",
    "    layer_mapping=layer_mapping,  # inject mapped weights from the prod model\n",
    "    freeze_layers=freeze_layers,\n",
    "    unfreeze_layers=unfreeze_layers\n",
    ")"
   ]
  },
  {
   "cell_type": "markdown",
   "id": "b15cfcf4-562f-4d5c-b242-0082ec483b37",
   "metadata": {},
   "source": [
    "### Define training parameters for training TLModel"
   ]
  },
  {
   "cell_type": "code",
   "execution_count": 22,
   "id": "0adbc0ff-757b-421c-9f21-38815ed4c487",
   "metadata": {},
   "outputs": [],
   "source": [
    "train_params = {\n",
    "    'path_x': X,\n",
    "    'path_y': Y_BIN,\n",
    "    'epochs': 1,\n",
    "    'batch_size': 1,\n",
    "    'patience': 2,\n",
    "    'dataset_name': 'private_gib01',\n",
    "    'trained_for': 'fine-tuning peak detection',\n",
    "    'all_samples': False,\n",
    "    'samples': 3,\n",
    "    'gpu_id': None,\n",
    "    'enable_tensorboard': True\n",
    "}\n",
    "# TODO: in this case it is not \"retraining\", right? "
   ]
  },
  {
   "cell_type": "markdown",
   "id": "f22dd8a7-2eda-4a02-87e7-c8e3ef5b2335",
   "metadata": {},
   "source": [
    "### Train TLModel"
   ]
  },
  {
   "cell_type": "code",
   "execution_count": null,
   "id": "cba957a4-36a7-4e57-9e3d-69c5ca60c03b",
   "metadata": {},
   "outputs": [],
   "source": [
    "tl_model.train_tl(**train_params)"
   ]
  }
 ],
 "metadata": {
  "kernelspec": {
   "display_name": "Python (NeuralLibraryEnv)",
   "language": "python",
   "name": "neurallibraryenv"
  },
  "language_info": {
   "codemirror_mode": {
    "name": "ipython",
    "version": 3
   },
   "file_extension": ".py",
   "mimetype": "text/x-python",
   "name": "python",
   "nbconvert_exporter": "python",
   "pygments_lexer": "ipython3",
   "version": "3.9.6"
  }
 },
 "nbformat": 4,
 "nbformat_minor": 5
}
