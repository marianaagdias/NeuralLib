{
 "cells": [
  {
   "cell_type": "markdown",
   "id": "7737c2af-619c-4d5c-af79-4abc40670518",
   "metadata": {},
   "source": [
    "# Tutorial #2\n",
    "In this tutorial, the goal is to perform grid search to find the best set of hyperparameters for the model that is being developed.\n"
   ]
  },
  {
   "cell_type": "markdown",
   "id": "1d0ba0d6-fa32-4c50-9497-f405bec1c804",
   "metadata": {
    "jp-MarkdownHeadingCollapsed": true
   },
   "source": [
    "### Pre-tutorial"
   ]
  },
  {
   "cell_type": "code",
   "execution_count": 1,
   "id": "dec655dc-fdad-4d4f-aa9d-7b540b9dc869",
   "metadata": {},
   "outputs": [],
   "source": [
    "# Cell to be removed once the package is stable\n",
    "import sys\n",
    "import os\n",
    "\n",
    "# Get the absolute path of your project directory\n",
    "project_path = os.path.abspath(\"..\")\n",
    "\n",
    "# Add the project directory to sys.path\n",
    "if project_path not in sys.path:\n",
    "    sys.path.append(project_path)"
   ]
  },
  {
   "cell_type": "markdown",
   "id": "051e9230-3a7e-4962-a268-d56632d3ba6e",
   "metadata": {},
   "source": [
    "### Imports"
   ]
  },
  {
   "cell_type": "code",
   "execution_count": 2,
   "id": "9eaa945a-50ba-40f7-b36c-42226cc56a5d",
   "metadata": {},
   "outputs": [],
   "source": [
    "from NeuralLib.config import DATASETS_GIB01  # directory saved in config.py\n",
    "import NeuralLib.architectures as arc"
   ]
  },
  {
   "cell_type": "markdown",
   "id": "8055e53e-b018-4e25-8b36-2c201223179f",
   "metadata": {},
   "source": [
    "### Data paths"
   ]
  },
  {
   "cell_type": "code",
   "execution_count": 3,
   "id": "967c5cdb-c6cb-444a-9fce-d10565a2b4d9",
   "metadata": {},
   "outputs": [],
   "source": [
    "X = os.path.join(DATASETS_GIB01, 'x')\n",
    "Y = os.path.join(DATASETS_GIB01, 'y_bin')"
   ]
  },
  {
   "cell_type": "markdown",
   "id": "d0ad8842-2471-4a1a-bbe1-f1b2aeafbac3",
   "metadata": {},
   "source": [
    "### Step 1: Define hyperparmeters options for the grid search"
   ]
  },
  {
   "cell_type": "code",
   "execution_count": 4,
   "id": "838a86e3-aafe-496c-9174-8363a5cfb956",
   "metadata": {},
   "outputs": [
    {
     "name": "stdout",
     "output_type": "stream",
     "text": [
      "['GRUEncoderDecoder', 'GRUseq2one', 'GRUseq2seq', 'TransformerEncoderDecoder', 'TransformerSeq2One', 'TransformerSeq2Seq']\n"
     ]
    }
   ],
   "source": [
    "architecture_name = 'GRUseq2seq'\n",
    "print(arc.get_valid_architectures())\n",
    "archi_params_options = {\n",
    "    \"model_name\": \"ECGPeakDetector\",\n",
    "    \"n_features\": [1],\n",
    "    \"hid_dim\": [[32, 64, 64], [64, 64, 64], [64, 128, 64], [64, 128]],\n",
    "    \"n_layers\": [3, 2],\n",
    "    \"dropout\": [0.3, 0],\n",
    "    \"learning_rate\": [0.001],\n",
    "    \"bidirectional\": [True],\n",
    "    \"task\": [\"classification\"],\n",
    "    \"num_classes\": [1],\n",
    "}"
   ]
  },
  {
   "cell_type": "code",
   "execution_count": 5,
   "id": "4ce1320c-0600-4a8b-863a-8abb75742cbc",
   "metadata": {},
   "outputs": [],
   "source": [
    "train_params = {\n",
    "    'path_x': X,\n",
    "    'path_y': Y,\n",
    "    'epochs': 2,\n",
    "    'batch_size': 1,\n",
    "    'patience': 2,\n",
    "    'dataset_name': 'private_gib01',\n",
    "    'trained_for': 'peak detection',\n",
    "    'all_samples': False,\n",
    "    'samples': 3,\n",
    "    'gpu_id': None,\n",
    "    'enable_tensorboard': True,\n",
    "}"
   ]
  },
  {
   "cell_type": "markdown",
   "id": "499dae8b-6ea5-490c-8d90-6c47e91fbb59",
   "metadata": {},
   "source": [
    "### Step 2: Perform grid search"
   ]
  },
  {
   "cell_type": "code",
   "execution_count": null,
   "id": "0079a2ef-c6f2-4bbb-869a-78c706d8d4bd",
   "metadata": {
    "scrolled": true
   },
   "outputs": [],
   "source": [
    "best_dir, best_val_loss, val_losses = arc.run_grid_search(architecture_name, archi_params_options, train_params)"
   ]
  },
  {
   "cell_type": "markdown",
   "id": "7542d8be-3a35-4073-a9ce-ecc4eed0631f",
   "metadata": {},
   "source": [
    "### Step 3: Test the best model on the test set"
   ]
  },
  {
   "cell_type": "code",
   "execution_count": null,
   "id": "f76730a9-6878-4af6-a052-e967c4b5b29c",
   "metadata": {},
   "outputs": [],
   "source": [
    "# 3.1. Load architecture parameters from the hparams.yaml file\n",
    "architecture_params = arc.get_hparams_from_checkpoints(best_dir)\n",
    "# 3.2 Initialize the model using the loaded parameters\n",
    "model = arc.GRUseq2seq(**architecture_params)\n",
    "\n",
    "predictions, avg_loss = model.test_on_test_set(\n",
    "    path_x=train_params[\"path_x\"],\n",
    "    path_y=train_params[\"path_y\"],\n",
    "    checkpoints_dir=best_dir,\n",
    "    gpu_id=train_params[\"gpu_id\"],\n",
    "    save_predictions=True,\n",
    "    all_samples=False,\n",
    "    samples=5,\n",
    ")"
   ]
  },
  {
   "cell_type": "markdown",
   "id": "59427496-d909-4f2e-8f05-519aca33015a",
   "metadata": {},
   "source": [
    "### Step 4: Test the best model on a single signal"
   ]
  },
  {
   "cell_type": "code",
   "execution_count": null,
   "id": "0f59d888-e222-4a60-910b-d57457990ac3",
   "metadata": {},
   "outputs": [],
   "source": [
    "single_signal = torch.rand(100, 1)  # Example input signal (sequence length: 100, 1 feature)\n",
    "single_prediction = model.test_on_single_signal(single_signal, checkpoints_dir=best_dir, gpu_id=train_params[\"gpu_id\"])\n",
    "print(f\"Single Signal Prediction: {single_prediction}\")"
   ]
  }
 ],
 "metadata": {
  "kernelspec": {
   "display_name": "Python (NeuralLibraryEnv)",
   "language": "python",
   "name": "neurallibraryenv"
  },
  "language_info": {
   "codemirror_mode": {
    "name": "ipython",
    "version": 3
   },
   "file_extension": ".py",
   "mimetype": "text/x-python",
   "name": "python",
   "nbconvert_exporter": "python",
   "pygments_lexer": "ipython3",
   "version": "3.9.6"
  }
 },
 "nbformat": 4,
 "nbformat_minor": 5
}
